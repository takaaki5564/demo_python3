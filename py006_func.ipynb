{
 "metadata": {
  "name": "",
  "signature": "sha256:f6fa8524b1aebd576699f62745dd825c35e887a361222fa4de7233713a165b6d"
 },
 "nbformat": 3,
 "nbformat_minor": 0,
 "worksheets": [
  {
   "cells": [
    {
     "cell_type": "code",
     "collapsed": false,
     "input": [
      "import tkinter\n",
      "\n",
      "def on_clicked():\n",
      "    print(\"Button is pushed\")\n",
      "#scope of function is until here\n",
      "    \n",
      "window = tkinter.Tk()\n",
      "label = tkinter.Label(window, text=\"Sample\")\n",
      "label.pack()\n",
      "button=tkinter.Button(window, text=\"Please push button\",\n",
      "                        command = on_clicked)\n",
      "button.pack()\n",
      "\n",
      "window.mainloop()"
     ],
     "language": "python",
     "metadata": {},
     "outputs": [
      {
       "output_type": "stream",
       "stream": "stdout",
       "text": [
        "Button is pushed\n",
        "Button is pushed"
       ]
      },
      {
       "output_type": "stream",
       "stream": "stdout",
       "text": [
        "\n",
        "Button is pushed"
       ]
      },
      {
       "output_type": "stream",
       "stream": "stdout",
       "text": [
        "\n"
       ]
      }
     ],
     "prompt_number": 2
    },
    {
     "cell_type": "code",
     "collapsed": false,
     "input": [
      "y=100\n",
      "\n",
      "def foo(x):\n",
      "    y=x*2\n",
      "    return y # scope of y is inside foo()\n",
      "\n",
      "print(foo(1))\n",
      "print(foo(2))\n",
      "print(y)"
     ],
     "language": "python",
     "metadata": {},
     "outputs": [
      {
       "output_type": "stream",
       "stream": "stdout",
       "text": [
        "2\n",
        "4\n",
        "100\n"
       ]
      }
     ],
     "prompt_number": 3
    },
    {
     "cell_type": "code",
     "collapsed": false,
     "input": [
      "def hoge(ary):\n",
      "    ary.append(10)\n",
      "\n",
      "ary=[1,2,3]\n",
      "hoge(ary)\n",
      "print(ary)\n",
      "print(ary)"
     ],
     "language": "python",
     "metadata": {},
     "outputs": [
      {
       "output_type": "stream",
       "stream": "stdout",
       "text": [
        "[1, 2, 3, 10]\n",
        "[1, 2, 3, 10]\n"
       ]
      }
     ],
     "prompt_number": 5
    },
    {
     "cell_type": "code",
     "collapsed": false,
     "input": [
      "def g(x):\n",
      "    def f(y):\n",
      "        return x*y\n",
      "\n",
      "    return f\n",
      "\n",
      "gg=g(2)\n",
      "print(gg(3))\n",
      "hh=g(10)\n",
      "print(hh(4))"
     ],
     "language": "python",
     "metadata": {},
     "outputs": [
      {
       "output_type": "stream",
       "stream": "stdout",
       "text": [
        "6\n",
        "40\n"
       ]
      }
     ],
     "prompt_number": 7
    },
    {
     "cell_type": "code",
     "collapsed": false,
     "input": [],
     "language": "python",
     "metadata": {},
     "outputs": []
    }
   ],
   "metadata": {}
  }
 ]
}