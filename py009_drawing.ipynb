{
 "metadata": {
  "name": "",
  "signature": "sha256:eed99cd3e899316219b8eae8cf05d516c938706d7bb590a6a511445ea98cd803"
 },
 "nbformat": 3,
 "nbformat_minor": 0,
 "worksheets": [
  {
   "cells": [
    {
     "cell_type": "code",
     "collapsed": false,
     "input": [
      "import tkinter\n",
      "\n",
      "class Scribble:\n",
      "    # if Button is pushed\n",
      "    def on_pressed(self, event):\n",
      "        self.sx=event.x\n",
      "        self.sy=event.y\n",
      "        self.canvas.create_oval(self.sx, self.sy, event.x, event.y,\n",
      "                                outline=self.color.get(),\n",
      "                                width=self.width.get())\n",
      "        \n",
      "    # Drag\n",
      "    def on_dragged(self, event):\n",
      "        self.canvas.create_line(self.sx, self.sy, event.x, event.y,\n",
      "                                fill=self.color.get(),\n",
      "                                width=self.width.get())\n",
      "        self.sx=event.x\n",
      "        self.sy=event.y\n",
      "        \n",
      "    # Create Window\n",
      "    def create_window(self):\n",
      "        window = tkinter.Tk()\n",
      "        self.canvas=tkinter.Canvas(window, bg=\"white\",\n",
      "                                   width=300, height=300)\n",
      "        self.canvas.pack()\n",
      "        quit_button=tkinter.Button(window, text=\"Exit\",\n",
      "                                        command=window.quit)\n",
      "        quit_button.pack(side=tkinter.RIGHT)\n",
      "        \n",
      "        self.canvas.bind(\"<ButtonPress-1>\",self.on_pressed)\n",
      "        self.canvas.bind(\"<B1-Motion>\",self.on_dragged)\n",
      "        \n",
      "        # Select Color\n",
      "        COLORS=[\"red\", \"green\", \"blue\", \"#FF00FF\", \"black\"]\n",
      "        self.color=tkinter.StringVar()\n",
      "        self.color.set(COLORS[1])\n",
      "        b=tkinter.OptionMenu(window, self.color, *COLORS)\n",
      "        b.pack(side=tkinter.LEFT)\n",
      "        \n",
      "        # Selct Width of Line\n",
      "        self.width=tkinter.Scale(window, from_=1, to=15,\n",
      "                                 orient=tkinter.HORIZONTAL)\n",
      "        self.width.set(5)\n",
      "        self.width.pack(side=tkinter.LEFT)\n",
      "        \n",
      "        return window;\n",
      "\n",
      "    # call create_window()\n",
      "    def __init__(self):\n",
      "        self.window=self.create_window();\n",
      "        # self.+ method name\n",
      "    \n",
      "    def run(self):\n",
      "        self.window.mainloop()\n",
      "    \n",
      "Scribble().run()"
     ],
     "language": "python",
     "metadata": {},
     "outputs": [],
     "prompt_number": 9
    },
    {
     "cell_type": "code",
     "collapsed": false,
     "input": [],
     "language": "python",
     "metadata": {},
     "outputs": [],
     "prompt_number": 7
    },
    {
     "cell_type": "code",
     "collapsed": false,
     "input": [],
     "language": "python",
     "metadata": {},
     "outputs": []
    }
   ],
   "metadata": {}
  }
 ]
}