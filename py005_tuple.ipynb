{
 "metadata": {
  "name": "",
  "signature": "sha256:5bf8fb4d38530bab24bdb0e489e6f5b0de6590b4acf708c03b3ea50c7155c9c1"
 },
 "nbformat": 3,
 "nbformat_minor": 0,
 "worksheets": [
  {
   "cells": [
    {
     "cell_type": "code",
     "collapsed": false,
     "input": [
      "# tuple\n",
      "t = (1, 2, \"foo\")\n",
      "print(t)\n",
      "print(t[1])\n",
      "print(t[0:2])"
     ],
     "language": "python",
     "metadata": {},
     "outputs": [
      {
       "output_type": "stream",
       "stream": "stdout",
       "text": [
        "(1, 2, 'foo')\n",
        "2\n",
        "(1, 2)\n"
       ]
      }
     ],
     "prompt_number": 1
    },
    {
     "cell_type": "code",
     "collapsed": false,
     "input": [
      "# list\n",
      "list = [1, \"hoge\"]\n",
      "list.append(\"foo\")\n",
      "print(list)"
     ],
     "language": "python",
     "metadata": {},
     "outputs": []
    },
    {
     "cell_type": "code",
     "collapsed": false,
     "input": [
      "#list\n",
      "list = [1] # name space \"list\"\n",
      "s = [\"a\", \"b\"] # name space \"s\"\n",
      "list.append(s)\n",
      "s.append(\"c\") # added to object space of \"s\"\n",
      "print(list)"
     ],
     "language": "python",
     "metadata": {},
     "outputs": [
      {
       "output_type": "stream",
       "stream": "stdout",
       "text": [
        "[1, ['a', 'b', 'c']]\n"
       ]
      }
     ],
     "prompt_number": 3
    },
    {
     "cell_type": "code",
     "collapsed": false,
     "input": [],
     "language": "python",
     "metadata": {},
     "outputs": []
    }
   ],
   "metadata": {}
  }
 ]
}