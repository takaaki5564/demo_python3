{
 "metadata": {
  "name": "",
  "signature": "sha256:6e30b99daf13163db120c7783cdadf54e10379169d8a180c1de0fdc88a2b17ef"
 },
 "nbformat": 3,
 "nbformat_minor": 0,
 "worksheets": [
  {
   "cells": [
    {
     "cell_type": "code",
     "collapsed": false,
     "input": [
      "print(hex(255)) #convert figure to 16 bit\n",
      "print(abs(-10))"
     ],
     "language": "python",
     "metadata": {},
     "outputs": [
      {
       "output_type": "stream",
       "stream": "stdout",
       "text": [
        "0xff\n",
        "10\n"
       ]
      }
     ],
     "prompt_number": 5
    },
    {
     "cell_type": "code",
     "collapsed": false,
     "input": [
      "print(bin(255))"
     ],
     "language": "python",
     "metadata": {},
     "outputs": [
      {
       "output_type": "stream",
       "stream": "stdout",
       "text": [
        "0b11111111\n"
       ]
      }
     ],
     "prompt_number": 8
    },
    {
     "cell_type": "code",
     "collapsed": false,
     "input": [
      "import tkinter\n",
      "window = tkinter.Tk()\n",
      "print(callable(window)) #check object is enable"
     ],
     "language": "python",
     "metadata": {},
     "outputs": [
      {
       "output_type": "stream",
       "stream": "stdout",
       "text": [
        "False\n"
       ]
      }
     ],
     "prompt_number": 15
    },
    {
     "cell_type": "code",
     "collapsed": false,
     "input": [
      "# int calculation\n",
      "print(2+3*4)\n",
      "print((2+3)*4)\n",
      "print(7/3)\n",
      "print(7//3) # kirisute\n",
      "print(7.0/3)\n",
      "print(2**3)"
     ],
     "language": "python",
     "metadata": {},
     "outputs": [
      {
       "output_type": "stream",
       "stream": "stdout",
       "text": [
        "14\n",
        "20\n",
        "2.3333333333333335\n",
        "2\n",
        "2.3333333333333335\n",
        "8\n"
       ]
      }
     ],
     "prompt_number": 1
    },
    {
     "cell_type": "code",
     "collapsed": false,
     "input": [
      "# character\n",
      "print(\"a\"+\"b\")\n",
      "print(\"a\"+str(10))\n",
      "s=\"textABCbbasdfghjkl\"\n",
      "print(s.count(\"text\")) # count character number\n",
      "print(s.lower()) # change to small character\n",
      "print(s.upper())\n",
      "print(s.find(\"ABC\"))\n",
      "print(s[9:12])\n",
      "print(len(s))"
     ],
     "language": "python",
     "metadata": {},
     "outputs": [
      {
       "output_type": "stream",
       "stream": "stdout",
       "text": [
        "ab\n",
        "a10\n",
        "1\n",
        "textabcbbasdfghjkl\n",
        "TEXTABCBBASDFGHJKL\n",
        "4\n",
        "asd\n",
        "18\n"
       ]
      }
     ],
     "prompt_number": 7
    },
    {
     "cell_type": "code",
     "collapsed": false,
     "input": [],
     "language": "python",
     "metadata": {},
     "outputs": []
    }
   ],
   "metadata": {}
  }
 ]
}