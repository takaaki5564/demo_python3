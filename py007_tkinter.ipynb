{
 "metadata": {
  "name": "",
  "signature": "sha256:44badc2a79380585225562d46e96d53df5e8ed2cad964585a80693be63d68c20"
 },
 "nbformat": 3,
 "nbformat_minor": 0,
 "worksheets": [
  {
   "cells": [
    {
     "cell_type": "code",
     "collapsed": false,
     "input": [
      "import tkinter\n",
      "\n",
      "window=tkinter.Tk()\n",
      "\n",
      "tkinter.Button(window, text=\"Button\").pack()\n",
      "tkinter.Checkbutton(window, text=\"CheckButton\").pack()\n",
      "\n",
      "entry=tkinter.Entry(window)\n",
      "entry.insert(tkinter.END, \"Entry\")\n",
      "entry.pack()\n",
      "\n",
      "frame=tkinter.LabelFrame(window, text=\"FrameLabel\")\n",
      "frame.pack()\n",
      "tkinter.Label(frame, text=\"Label\").pack()\n",
      "\n",
      "listbox=tkinter.Listbox(window, height=3)\n",
      "listbox.insert(tkinter.END, \"ListBox\")\n",
      "listbox.insert(tkinter.END, \"List2\")\n",
      "listbox.pack()\n",
      "\n",
      "tkinter.Scale(window, orient=tkinter.HORIZONTAL).pack()\n",
      "tkinter.Spinbox(window).pack()\n",
      "\n",
      "window.mainloop()"
     ],
     "language": "python",
     "metadata": {},
     "outputs": [],
     "prompt_number": 1
    },
    {
     "cell_type": "code",
     "collapsed": false,
     "input": [
      "import tkinter\n",
      "import sys\n",
      "\n",
      "def on_pressed(event):\n",
      "    print(\"system exit start.\")\n",
      "    sys.exit() # exit programm\n",
      "\n",
      "window=tkinter.Tk()\n",
      "label=tkinter.Label(window, text=\"Push mouse button to exit\")\n",
      "label.bind(\"<Button-1>\", on_pressed)\n",
      "label.pack()\n",
      "\n",
      "window.mainloop()\n"
     ],
     "language": "python",
     "metadata": {},
     "outputs": []
    },
    {
     "cell_type": "code",
     "collapsed": false,
     "input": [
      "b=[1,2,3]\n",
      "b?"
     ],
     "language": "python",
     "metadata": {},
     "outputs": [],
     "prompt_number": 11
    },
    {
     "cell_type": "code",
     "collapsed": false,
     "input": [
      "import tkinter\n",
      "tkinter?"
     ],
     "language": "python",
     "metadata": {},
     "outputs": [],
     "prompt_number": 12
    },
    {
     "cell_type": "code",
     "collapsed": false,
     "input": [],
     "language": "python",
     "metadata": {},
     "outputs": []
    }
   ],
   "metadata": {}
  }
 ]
}