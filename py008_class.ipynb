{
 "metadata": {
  "name": "",
  "signature": "sha256:53121fb19804ab647c2f99250238ef04f7d2f6865de36684311ae8eb57b6b218"
 },
 "nbformat": 3,
 "nbformat_minor": 0,
 "worksheets": [
  {
   "cells": [
    {
     "cell_type": "code",
     "collapsed": false,
     "input": [
      "class my_class:\n",
      "    def __init__(self, v):\n",
      "        self.value=v\n",
      "        \n",
      "    # add\n",
      "    def add(self, v):\n",
      "        self.value+=v\n",
      "        \n",
      "    # subtract\n",
      "    def sub(self, v):\n",
      "        self.value-=v\n",
      "        \n",
      "    def get_value(self):\n",
      "        return self.value\n",
      "    \n",
      "obj1=my_class(100)\n",
      "obj2=my_class(1000)\n",
      "print(obj1.get_value(), obj2.get_value())\n",
      "\n",
      "obj1.add(10)\n",
      "obj2.sub(30)\n",
      "print(obj1.get_value(), obj2.get_value())"
     ],
     "language": "python",
     "metadata": {},
     "outputs": [
      {
       "output_type": "stream",
       "stream": "stdout",
       "text": [
        "100 1000\n",
        "110 970\n"
       ]
      }
     ],
     "prompt_number": 2
    },
    {
     "cell_type": "code",
     "collapsed": false,
     "input": [],
     "language": "python",
     "metadata": {},
     "outputs": []
    }
   ],
   "metadata": {}
  }
 ]
}