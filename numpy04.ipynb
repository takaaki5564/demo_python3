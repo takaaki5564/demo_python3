{
 "cells": [
  {
   "cell_type": "code",
   "execution_count": 1,
   "metadata": {
    "collapsed": true
   },
   "outputs": [],
   "source": [
    "import numpy as np"
   ]
  },
  {
   "cell_type": "code",
   "execution_count": 2,
   "metadata": {
    "collapsed": false
   },
   "outputs": [
    {
     "data": {
      "text/plain": [
       "array([[-0.13224225, -0.86121899, -0.55053511, ...,  0.65351721,\n",
       "        -1.09470259,  0.73921831],\n",
       "       [-0.62127678, -0.46555495, -0.30091046, ...,  0.27522449,\n",
       "        -0.56830495,  0.43987613],\n",
       "       [-0.12670861,  0.2297186 , -0.31131092, ...,  0.44941722,\n",
       "         0.21268488, -0.79614182],\n",
       "       ..., \n",
       "       [-0.29148706,  0.93930523, -1.02990819, ...,  0.30482479,\n",
       "        -0.95298536,  0.0496585 ],\n",
       "       [ 0.21320874,  0.29580025,  1.01963055, ..., -0.74878423,\n",
       "         1.39377298, -1.4166485 ],\n",
       "       [ 0.96450962, -0.80696792,  0.31716551, ...,  3.1184805 ,\n",
       "         1.63840809, -0.45264727]])"
      ]
     },
     "execution_count": 2,
     "metadata": {},
     "output_type": "execute_result"
    }
   ],
   "source": [
    "#pickleを使って配列の保存と呼び出し\n",
    "a = np.random.randn(10000).reshape(100,100)\n",
    "a"
   ]
  },
  {
   "cell_type": "code",
   "execution_count": 10,
   "metadata": {
    "collapsed": false
   },
   "outputs": [],
   "source": [
    "import pickle\n",
    "f = open('a.pickle', 'wb') #テキストモード'w'にすると実行時エラー\n",
    "pickle.dump(a,f)\n",
    "f.close()"
   ]
  },
  {
   "cell_type": "code",
   "execution_count": 12,
   "metadata": {
    "collapsed": false
   },
   "outputs": [
    {
     "data": {
      "text/plain": [
       "array([[-0.13224225, -0.86121899, -0.55053511, ...,  0.65351721,\n",
       "        -1.09470259,  0.73921831],\n",
       "       [-0.62127678, -0.46555495, -0.30091046, ...,  0.27522449,\n",
       "        -0.56830495,  0.43987613],\n",
       "       [-0.12670861,  0.2297186 , -0.31131092, ...,  0.44941722,\n",
       "         0.21268488, -0.79614182],\n",
       "       ..., \n",
       "       [-0.29148706,  0.93930523, -1.02990819, ...,  0.30482479,\n",
       "        -0.95298536,  0.0496585 ],\n",
       "       [ 0.21320874,  0.29580025,  1.01963055, ..., -0.74878423,\n",
       "         1.39377298, -1.4166485 ],\n",
       "       [ 0.96450962, -0.80696792,  0.31716551, ...,  3.1184805 ,\n",
       "         1.63840809, -0.45264727]])"
      ]
     },
     "execution_count": 12,
     "metadata": {},
     "output_type": "execute_result"
    }
   ],
   "source": [
    "f = open('a.pickle', 'rb') #'r'にするとload時にエラー\n",
    "a = pickle.load(f)\n",
    "f.close()\n",
    "a"
   ]
  },
  {
   "cell_type": "code",
   "execution_count": 13,
   "metadata": {
    "collapsed": true
   },
   "outputs": [],
   "source": [
    "#numpy;配列をバイナリで保存\n",
    "np.save('a.npy', a)\n",
    "b = np.load('a.npy')"
   ]
  },
  {
   "cell_type": "code",
   "execution_count": 14,
   "metadata": {
    "collapsed": false
   },
   "outputs": [
    {
     "data": {
      "text/plain": [
       "array([[-0.13224225, -0.86121899, -0.55053511, ...,  0.65351721,\n",
       "        -1.09470259,  0.73921831],\n",
       "       [-0.62127678, -0.46555495, -0.30091046, ...,  0.27522449,\n",
       "        -0.56830495,  0.43987613],\n",
       "       [-0.12670861,  0.2297186 , -0.31131092, ...,  0.44941722,\n",
       "         0.21268488, -0.79614182],\n",
       "       ..., \n",
       "       [-0.29148706,  0.93930523, -1.02990819, ...,  0.30482479,\n",
       "        -0.95298536,  0.0496585 ],\n",
       "       [ 0.21320874,  0.29580025,  1.01963055, ..., -0.74878423,\n",
       "         1.39377298, -1.4166485 ],\n",
       "       [ 0.96450962, -0.80696792,  0.31716551, ...,  3.1184805 ,\n",
       "         1.63840809, -0.45264727]])"
      ]
     },
     "execution_count": 14,
     "metadata": {},
     "output_type": "execute_result"
    }
   ],
   "source": [
    "b"
   ]
  },
  {
   "cell_type": "code",
   "execution_count": 17,
   "metadata": {
    "collapsed": false
   },
   "outputs": [
    {
     "data": {
      "text/plain": [
       "array([[-0.13224225, -0.86121899, -0.55053511, ...,  0.65351721,\n",
       "        -1.09470259,  0.73921831],\n",
       "       [-0.62127678, -0.46555495, -0.30091046, ...,  0.27522449,\n",
       "        -0.56830495,  0.43987613],\n",
       "       [-0.12670861,  0.2297186 , -0.31131092, ...,  0.44941722,\n",
       "         0.21268488, -0.79614182],\n",
       "       ..., \n",
       "       [-0.29148706,  0.93930523, -1.02990819, ...,  0.30482479,\n",
       "        -0.95298536,  0.0496585 ],\n",
       "       [ 0.21320874,  0.29580025,  1.01963055, ..., -0.74878423,\n",
       "         1.39377298, -1.4166485 ],\n",
       "       [ 0.96450962, -0.80696792,  0.31716551, ...,  3.1184805 ,\n",
       "         1.63840809, -0.45264727]])"
      ]
     },
     "execution_count": 17,
     "metadata": {},
     "output_type": "execute_result"
    }
   ],
   "source": [
    "#numpy:テキストデータとして保存(savetxt)\n",
    "np.savetxt('a.data', a)\n",
    "c = np.loadtxt('a.data')\n",
    "c"
   ]
  },
  {
   "cell_type": "code",
   "execution_count": null,
   "metadata": {
    "collapsed": true
   },
   "outputs": [],
   "source": []
  }
 ],
 "metadata": {
  "kernelspec": {
   "display_name": "Python 3",
   "language": "python",
   "name": "python3"
  },
  "language_info": {
   "codemirror_mode": {
    "name": "ipython",
    "version": 3
   },
   "file_extension": ".py",
   "mimetype": "text/x-python",
   "name": "python",
   "nbconvert_exporter": "python",
   "pygments_lexer": "ipython3",
   "version": "3.4.5"
  }
 },
 "nbformat": 4,
 "nbformat_minor": 1
}
