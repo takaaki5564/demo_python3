{
 "metadata": {
  "name": "",
  "signature": "sha256:055f5c612e8436da85eb02bc4572e714b6d556cc6fc4986dfd66505112fefe94"
 },
 "nbformat": 3,
 "nbformat_minor": 0,
 "worksheets": [
  {
   "cells": [
    {
     "cell_type": "code",
     "collapsed": false,
     "input": [
      "import MeCab\n",
      "\n",
      "## Functions\n",
      "def main():\n",
      "    text = '\u30e9\u30a4\u9ea6\u7551\u306e\u3064\u304b\u307e\u3048\u5f79\u3001\u305d\u3046\u3044\u3063\u305f\u3082\u306e\u306b\u50d5\u306f\u306a\u308a\u305f\u3044\u3093\u3060\u3088\u3002\u7f8e\u3057\u3044\u99ac\u304c\u898b\u3048\u308b\u3002'\n",
      "    tagger = MeCab.Tagger(\"-Ochasen\")\n",
      "    result = tagger.parse(text)\n",
      "    words_dict = parse(text)\n",
      "    print (\"\u5168\u6587/All:\",\",\".join(words_dict['all']))\n",
      "    print (\"\u540d\u8a5e/Nouns:\",\",\".join(words_dict['nouns']))\n",
      "    print (\"\u52d5\u8a5e/Verbs:\",\",\".join(words_dict['verbs']))\n",
      "    print (\"\u5f62\u5bb9\u8a5e/Adjs:\",\",\".join(words_dict['adjs']))\n",
      "    return"
     ],
     "language": "python",
     "metadata": {},
     "outputs": [],
     "prompt_number": 4
    },
    {
     "cell_type": "code",
     "collapsed": false,
     "input": [
      "def parse(text):\n",
      "    tagger = MeCab.Tagger(\"-Ochasen\")\n",
      "    tagger.parse('')\n",
      "    \n",
      "    node = tagger.parseToNode(text)\n",
      "    \n",
      "    words = []\n",
      "    nouns = []\n",
      "    verbs = []\n",
      "    adjs = []\n",
      "    while node:\n",
      "        pos = node.feature.split(\",\")[0]\n",
      "        # change back to unicode type\n",
      "        word = node.surface\n",
      "        if pos == \"\u540d\u8a5e\":\n",
      "            nouns.append(word)\n",
      "        elif pos == \"\u52d5\u8a5e\":\n",
      "            verbs.append(word)\n",
      "        elif pos == \"\u5f62\u5bb9\u8a5e\":\n",
      "            adjs.append(word)\n",
      "        words.append(word)\n",
      "        node = node.next\n",
      "    parsed_words_dict = {\n",
      "        \"all\": words[1:-1], # start & end is empty, so erase\n",
      "        \"nouns\": nouns,\n",
      "        \"verbs\": verbs,\n",
      "        \"adjs\": adjs\n",
      "        }\n",
      "    return parsed_words_dict  "
     ],
     "language": "python",
     "metadata": {},
     "outputs": [],
     "prompt_number": 5
    },
    {
     "cell_type": "code",
     "collapsed": false,
     "input": [
      "## Execute\n",
      "if __name__ == \"__main__\":\n",
      "    main()"
     ],
     "language": "python",
     "metadata": {},
     "outputs": [
      {
       "output_type": "stream",
       "stream": "stdout",
       "text": [
        "\u5168\u6587/All: \u30e9\u30a4\u9ea6,\u7551,\u306e,\u3064\u304b\u307e\u3048,\u5f79,\u3001,\u305d\u3046\u3044\u3063\u305f,\u3082\u306e,\u306b,\u50d5,\u306f,\u306a\u308a,\u305f\u3044,\u3093,\u3060,\u3088,\u3002,\u7f8e\u3057\u3044,\u99ac,\u304c,\u898b\u3048\u308b,\u3002\n",
        "\u540d\u8a5e/Nouns: \u30e9\u30a4\u9ea6,\u7551,\u5f79,\u3082\u306e,\u50d5,\u3093,\u99ac\n",
        "\u52d5\u8a5e/Verbs: \u3064\u304b\u307e\u3048,\u306a\u308a,\u898b\u3048\u308b\n",
        "\u5f62\u5bb9\u8a5e/Adjs: \u7f8e\u3057\u3044\n"
       ]
      }
     ],
     "prompt_number": 6
    },
    {
     "cell_type": "code",
     "collapsed": false,
     "input": [],
     "language": "python",
     "metadata": {},
     "outputs": [],
     "prompt_number": 5
    },
    {
     "cell_type": "code",
     "collapsed": false,
     "input": [],
     "language": "python",
     "metadata": {},
     "outputs": []
    }
   ],
   "metadata": {}
  }
 ]
}