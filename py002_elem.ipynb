{
 "metadata": {
  "name": "",
  "signature": "sha256:ff4c91d46e52e0ec1419f20dbfc32db7a2e537c6b7de93ced539473626523831"
 },
 "nbformat": 3,
 "nbformat_minor": 0,
 "worksheets": [
  {
   "cells": [
    {
     "cell_type": "code",
     "collapsed": false,
     "input": [
      "for elem in (1, 5, 10):\n",
      "    print(elem)"
     ],
     "language": "python",
     "metadata": {},
     "outputs": [
      {
       "output_type": "stream",
       "stream": "stdout",
       "text": [
        "1\n",
        "5\n",
        "10\n"
       ]
      }
     ],
     "prompt_number": 2
    },
    {
     "cell_type": "code",
     "collapsed": false,
     "input": [
      "a_list = [\"a\", \"fuga\", \"hoge\"]\n",
      "b_list = a_list\n",
      "b_list.append(True) # add to the list \"b_list\"\n",
      "print(a_list)\n",
      "# a_list and b_list is same object"
     ],
     "language": "python",
     "metadata": {},
     "outputs": [
      {
       "output_type": "stream",
       "stream": "stdout",
       "text": [
        "['a', 'fuga', 'hoge', True]\n"
       ]
      }
     ],
     "prompt_number": 1
    },
    {
     "cell_type": "code",
     "collapsed": false,
     "input": [],
     "language": "python",
     "metadata": {},
     "outputs": []
    }
   ],
   "metadata": {}
  }
 ]
}