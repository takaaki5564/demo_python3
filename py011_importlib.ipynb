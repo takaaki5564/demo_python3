{
 "metadata": {
  "name": "",
  "signature": "sha256:983bf3c160002a1267462475907407fccafd925587f68ec13f9bcd325508b930"
 },
 "nbformat": 3,
 "nbformat_minor": 0,
 "worksheets": [
  {
   "cells": [
    {
     "cell_type": "code",
     "collapsed": false,
     "input": [
      "import testmod"
     ],
     "language": "python",
     "metadata": {},
     "outputs": [
      {
       "output_type": "stream",
       "stream": "stdout",
       "text": [
        "import test\n"
       ]
      }
     ],
     "prompt_number": 6
    },
    {
     "cell_type": "code",
     "collapsed": false,
     "input": [
      "from math import sin,cos\n",
      "a=sin(0)\n",
      "b=cos(0)\n",
      "print(a)\n",
      "print(b)"
     ],
     "language": "python",
     "metadata": {},
     "outputs": [
      {
       "output_type": "stream",
       "stream": "stdout",
       "text": [
        "0.0\n",
        "1.0\n"
       ]
      }
     ],
     "prompt_number": 7
    },
    {
     "cell_type": "code",
     "collapsed": false,
     "input": [
      "import unittest\n",
      "type(unittest) # return type of parameter"
     ],
     "language": "python",
     "metadata": {},
     "outputs": [
      {
       "metadata": {},
       "output_type": "pyout",
       "prompt_number": 9,
       "text": [
        "module"
       ]
      }
     ],
     "prompt_number": 9
    },
    {
     "cell_type": "code",
     "collapsed": false,
     "input": [
      "availablelist=dir(unittest)\n",
      "len(availablelist)"
     ],
     "language": "python",
     "metadata": {},
     "outputs": [
      {
       "metadata": {},
       "output_type": "pyout",
       "prompt_number": 11,
       "text": [
        "42"
       ]
      }
     ],
     "prompt_number": 11
    },
    {
     "cell_type": "code",
     "collapsed": false,
     "input": [
      "availablelist[:3]"
     ],
     "language": "python",
     "metadata": {},
     "outputs": [
      {
       "metadata": {},
       "output_type": "pyout",
       "prompt_number": 12,
       "text": [
        "['BaseTestSuite', 'FunctionTestCase', 'SkipTest']"
       ]
      }
     ],
     "prompt_number": 12
    },
    {
     "cell_type": "code",
     "collapsed": false,
     "input": [
      "import math\n",
      "for i in range(math.ceil(len(availablelist)/4)):\n",
      "    print('  '.join(availablelist[i*4:i*4+4]))"
     ],
     "language": "python",
     "metadata": {},
     "outputs": [
      {
       "output_type": "stream",
       "stream": "stdout",
       "text": [
        "BaseTestSuite  FunctionTestCase  SkipTest  TestCase\n",
        "TestLoader  TestProgram  TestResult  TestSuite\n",
        "TextTestResult  TextTestRunner  _TextTestResult  __all__\n",
        "__builtins__  __cached__  __doc__  __file__\n",
        "__loader__  __name__  __package__  __path__\n",
        "__spec__  __unittest  case  defaultTestLoader\n",
        "expectedFailure  findTestCases  getTestCaseNames  installHandler\n",
        "loader  main  makeSuite  registerResult\n",
        "removeHandler  removeResult  result  runner\n",
        "signals  skip  skipIf  skipUnless\n",
        "suite  util\n"
       ]
      }
     ],
     "prompt_number": 13
    },
    {
     "cell_type": "code",
     "collapsed": false,
     "input": [
      "from myplot import myplot\n",
      "\n",
      "#x=[(-0.5)**i for i in range(20)]\n",
      "x=[i/(5.0+i) for i in range(30)]\n",
      "\n",
      "myplot(x)"
     ],
     "language": "python",
     "metadata": {},
     "outputs": [],
     "prompt_number": 18
    },
    {
     "cell_type": "code",
     "collapsed": false,
     "input": [
      "from __future__ import print_function\n",
      "import foo\n",
      "print('foo.func(\"test\"):{0}'.format(foo.func('test')))"
     ],
     "language": "python",
     "metadata": {},
     "outputs": [
      {
       "output_type": "stream",
       "stream": "stdout",
       "text": [
        "foo.func(\"test\"):test\n"
       ]
      }
     ],
     "prompt_number": 23
    },
    {
     "cell_type": "code",
     "collapsed": false,
     "input": [
      "%lsmagic"
     ],
     "language": "python",
     "metadata": {},
     "outputs": [
      {
       "json": [
        "{\"cell\": {\"sh\": \"Other\", \"python2\": \"Other\", \"python\": \"Other\", \"time\": \"ExecutionMagics\", \"pypy\": \"Other\", \"ruby\": \"Other\", \"perl\": \"Other\", \"script\": \"ScriptMagics\", \"HTML\": \"Other\", \"prun\": \"ExecutionMagics\", \"system\": \"OSMagics\", \"debug\": \"ExecutionMagics\", \"capture\": \"ExecutionMagics\", \"latex\": \"DisplayMagics\", \"writefile\": \"OSMagics\", \"bash\": \"Other\", \"file\": \"Other\", \"html\": \"DisplayMagics\", \"javascript\": \"DisplayMagics\", \"SVG\": \"Other\", \"svg\": \"DisplayMagics\", \"!\": \"OSMagics\", \"python3\": \"Other\", \"timeit\": \"ExecutionMagics\", \"sx\": \"OSMagics\"}, \"line\": {\"tb\": \"ExecutionMagics\", \"xdel\": \"NamespaceMagics\", \"cp\": \"Other\", \"qtconsole\": \"KernelMagics\", \"cd\": \"OSMagics\", \"pylab\": \"PylabMagics\", \"save\": \"CodeMagics\", \"sx\": \"OSMagics\", \"config\": \"ConfigMagics\", \"connect_info\": \"KernelMagics\", \"install_profiles\": \"DeprecatedMagics\", \"notebook\": \"BasicMagics\", \"reset\": \"NamespaceMagics\", \"timeit\": \"ExecutionMagics\", \"logstop\": \"LoggingMagics\", \"hist\": \"Other\", \"logoff\": \"LoggingMagics\", \"store\": \"StoreMagics\", \"pycat\": \"OSMagics\", \"load_ext\": \"ExtensionMagics\", \"popd\": \"OSMagics\", \"pinfo\": \"NamespaceMagics\", \"ls\": \"Other\", \"time\": \"ExecutionMagics\", \"matplotlib\": \"PylabMagics\", \"man\": \"KernelMagics\", \"install_ext\": \"ExtensionMagics\", \"pdoc\": \"NamespaceMagics\", \"ed\": \"Other\", \"rmdir\": \"Other\", \"dirs\": \"OSMagics\", \"pprint\": \"BasicMagics\", \"killbgscripts\": \"ScriptMagics\", \"ldir\": \"Other\", \"lx\": \"Other\", \"reset_selective\": \"NamespaceMagics\", \"clear\": \"KernelMagics\", \"pushd\": \"OSMagics\", \"colors\": \"BasicMagics\", \"quickref\": \"BasicMagics\", \"rm\": \"Other\", \"precision\": \"BasicMagics\", \"mkdir\": \"Other\", \"whos\": \"NamespaceMagics\", \"bookmark\": \"OSMagics\", \"unload_ext\": \"ExtensionMagics\", \"automagic\": \"AutoMagics\", \"cat\": \"Other\", \"unalias\": \"OSMagics\", \"gui\": \"BasicMagics\", \"pdb\": \"ExecutionMagics\", \"rep\": \"Other\", \"less\": \"KernelMagics\", \"prun\": \"ExecutionMagics\", \"lf\": \"Other\", \"psource\": \"NamespaceMagics\", \"psearch\": \"NamespaceMagics\", \"alias_magic\": \"BasicMagics\", \"alias\": \"OSMagics\", \"system\": \"OSMagics\", \"load\": \"CodeMagics\", \"pastebin\": \"CodeMagics\", \"doctest_mode\": \"KernelMagics\", \"lsmagic\": \"BasicMagics\", \"pdef\": \"NamespaceMagics\", \"who\": \"NamespaceMagics\", \"rerun\": \"HistoryMagics\", \"more\": \"KernelMagics\", \"autocall\": \"AutoMagics\", \"logon\": \"LoggingMagics\", \"env\": \"OSMagics\", \"recall\": \"HistoryMagics\", \"pinfo2\": \"NamespaceMagics\", \"pwd\": \"OSMagics\", \"pfile\": \"NamespaceMagics\", \"edit\": \"KernelMagics\", \"ll\": \"Other\", \"logstart\": \"LoggingMagics\", \"magic\": \"BasicMagics\", \"autosave\": \"KernelMagics\", \"xmode\": \"BasicMagics\", \"page\": \"BasicMagics\", \"install_default_config\": \"DeprecatedMagics\", \"debug\": \"ExecutionMagics\", \"dhist\": \"OSMagics\", \"sc\": \"OSMagics\", \"macro\": \"ExecutionMagics\", \"lk\": \"Other\", \"reload_ext\": \"ExtensionMagics\", \"loadpy\": \"CodeMagics\", \"logstate\": \"LoggingMagics\", \"who_ls\": \"NamespaceMagics\", \"mv\": \"Other\", \"profile\": \"BasicMagics\", \"run\": \"ExecutionMagics\", \"history\": \"HistoryMagics\", \"rehashx\": \"OSMagics\"}}"
       ],
       "metadata": {},
       "output_type": "pyout",
       "prompt_number": 1,
       "text": [
        "Available line magics:\n",
        "%alias  %alias_magic  %autocall  %automagic  %autosave  %bookmark  %cat  %cd  %clear  %colors  %config  %connect_info  %cp  %debug  %dhist  %dirs  %doctest_mode  %ed  %edit  %env  %gui  %hist  %history  %install_default_config  %install_ext  %install_profiles  %killbgscripts  %ldir  %less  %lf  %lk  %ll  %load  %load_ext  %loadpy  %logoff  %logon  %logstart  %logstate  %logstop  %ls  %lsmagic  %lx  %macro  %magic  %man  %matplotlib  %mkdir  %more  %mv  %notebook  %page  %pastebin  %pdb  %pdef  %pdoc  %pfile  %pinfo  %pinfo2  %popd  %pprint  %precision  %profile  %prun  %psearch  %psource  %pushd  %pwd  %pycat  %pylab  %qtconsole  %quickref  %recall  %rehashx  %reload_ext  %rep  %rerun  %reset  %reset_selective  %rm  %rmdir  %run  %save  %sc  %store  %sx  %system  %tb  %time  %timeit  %unalias  %unload_ext  %who  %who_ls  %whos  %xdel  %xmode\n",
        "\n",
        "Available cell magics:\n",
        "%%!  %%HTML  %%SVG  %%bash  %%capture  %%debug  %%file  %%html  %%javascript  %%latex  %%perl  %%prun  %%pypy  %%python  %%python2  %%python3  %%ruby  %%script  %%sh  %%svg  %%sx  %%system  %%time  %%timeit  %%writefile\n",
        "\n",
        "Automagic is ON, % prefix IS NOT needed for line magics."
       ]
      }
     ],
     "prompt_number": 1
    },
    {
     "cell_type": "code",
     "collapsed": false,
     "input": [],
     "language": "python",
     "metadata": {},
     "outputs": []
    }
   ],
   "metadata": {}
  }
 ]
}