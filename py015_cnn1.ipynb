{
 "metadata": {
  "name": "",
  "signature": "sha256:967c54bb8af924ae73d9f16b48639cca3342325aa8503e65858c0ebbd35eb7af"
 },
 "nbformat": 3,
 "nbformat_minor": 0,
 "worksheets": [
  {
   "cells": [
    {
     "cell_type": "code",
     "collapsed": false,
     "input": [
      "import numpy as np\n",
      "import pylab\n",
      "\n",
      "N = 50 # num of train\n",
      "ETA = 0.1# training ratio\n",
      "\n",
      "NUM_LOOP = 1500\n",
      "\n",
      "NUM_INPUT = 2\n",
      "NUM_HIDDEN = 5\n",
      "NUM_OUTPUT = 1"
     ],
     "language": "python",
     "metadata": {},
     "outputs": [],
     "prompt_number": 1
    },
    {
     "cell_type": "code",
     "collapsed": false,
     "input": [
      "def targetFunc(x):\n",
      "    #return 0.5 * (np.sign(x) + 1)\n",
      "    #return np.sin(5*x)\n",
      "    return 1 - x * x\n",
      "\n",
      "def sum_square_error(xlist, tlist, w1, w2):\n",
      "    error = 0.0\n",
      "    for n in range(N):\n",
      "        z = np.zeros(NUM_HIDDEN)\n",
      "        y = np.zeros(NUM_OUTPUT)\n",
      "        \n",
      "        # insert bias=1 at idx=0\n",
      "        x = np.insert(xlist[n], 0, 1)\n",
      "        \n",
      "        # forwar propagation\n",
      "        for j in range(NUM_HIDDEN):\n",
      "            a = np.zeros(NUM_HIDDEN)\n",
      "            for i in range(NUM_INPUT):\n",
      "                a[j] += w1[j,i] * x[i]\n",
      "            z[j] = np.tanh(a[j])\n",
      "            \n",
      "        for k in range(NUM_OUTPUT):\n",
      "            for j in range(NUM_HIDDEN):\n",
      "                y[k] += w2[k,j] * z[j]\n",
      "        \n",
      "        # square error\n",
      "        for k in range(NUM_OUTPUT):\n",
      "            error += 0.5*(y[k]-tlist[n,k])*(y[k]-tlist[n,k])\n",
      "        \n",
      "    return error\n",
      "\n",
      "# return output y,z from x,w1,w2\n",
      "def output(x, w1, w2):\n",
      "    # insert bias=1 at idx=0\n",
      "    x = np.insert(x, 0, 1)\n",
      "    z = np.zeros(NUM_HIDDEN)\n",
      "    y = np.zeros(NUM_OUTPUT)\n",
      "    \n",
      "    # forward propagation\n",
      "    for j in range(NUM_HIDDEN):\n",
      "        a = np.zeros(NUM_HIDDEN)\n",
      "        for i in range(NUM_INPUT):\n",
      "            a[j] += w1[j,i] * x[i]\n",
      "        z[j] = np.tanh(a[j])\n",
      "    for k in range(NUM_OUTPUT):\n",
      "        for j in range(NUM_HIDDEN):\n",
      "            y[k] += w2[k,j] * z[j]\n",
      "    return y, z"
     ],
     "language": "python",
     "metadata": {},
     "outputs": [],
     "prompt_number": 2
    },
    {
     "cell_type": "code",
     "collapsed": false,
     "input": [
      "if __name__ == \"__main__\":\n",
      "    # train data\n",
      "    xlist = np.linspace(-1,1,N).reshape(N,1) # parameter x\n",
      "    #tlist = xlist * xlist\n",
      "    #tlist = xlist * np.sin(xlist)\n",
      "    tlist = targetFunc(xlist) \n",
      "    #tlist = 1 - xlist * xlist\n",
      "    \n",
      "    # initialize w (random)\n",
      "    w1 = np.random.random((NUM_HIDDEN, NUM_INPUT))\n",
      "    w2 = np.random.random((NUM_OUTPUT, NUM_HIDDEN))\n",
      "    \n",
      "    print (\"square errror before training:{0:f}\".format(sum_square_error(xlist, tlist,w1, w2)))\n",
      "    \n",
      "    # start training loop\n",
      "    for loop in range(NUM_LOOP):\n",
      "        for n in range(len(xlist)):\n",
      "            z = np.zeros(NUM_HIDDEN) # output of hidden-layer\n",
      "            y = np.zeros(NUM_OUTPUT) # output of output-layer\n",
      "            \n",
      "            d1 = np.zeros(NUM_HIDDEN) # diff\n",
      "            d2 = np.zeros(NUM_OUTPUT) # diff\n",
      "            \n",
      "            x = np.array([xlist[n]])\n",
      "            x = np.insert(x,0,1) # insert bias=1 at idx=0\n",
      "            \n",
      "            # forward propagation\n",
      "            for j in range(NUM_HIDDEN):\n",
      "                a = np.zeros(NUM_HIDDEN)\n",
      "                for i in range(NUM_INPUT):\n",
      "                    a[j] += w1[j,i] * x[i]\n",
      "                z[j] = np.tanh(a[j])\n",
      "            \n",
      "            for k in range(NUM_OUTPUT):\n",
      "                for j in range(NUM_HIDDEN):\n",
      "                    y[k] += w2[k,j] * z[j]\n",
      "            \n",
      "            for k in range(NUM_OUTPUT):\n",
      "                d2[k] = y[k] - tlist[n,k] # diff(output-layer)\n",
      "            \n",
      "            for j in range(NUM_HIDDEN):\n",
      "                tmp = 0.0\n",
      "                for k in range(NUM_OUTPUT):\n",
      "                    tmp += w2[k,j] * d2[k]\n",
      "                d1[j] = (1 - z[j] * z[j]) * tmp # diff(hidden-layer)\n",
      "            \n",
      "            for j in range(NUM_HIDDEN):\n",
      "                for i in range(NUM_INPUT):\n",
      "                    w1[j,i] -= ETA * d1[j] * x[i] # update w1\n",
      "            \n",
      "            for k in range(NUM_OUTPUT):\n",
      "                for j in range(NUM_HIDDEN):\n",
      "                    w2[k,j] -= ETA * d2[k] * z[j]\n",
      "        \n",
      "        if loop % 100 == 0:\n",
      "            print(loop, sum_square_error(xlist, tlist, w1, w2))\n",
      "        \n",
      "    print(\"w1:{0}\", w1)\n",
      "    print(\"w2:{0}\", w2)\n",
      "    \n",
      "    ylist = np.zeros((N, NUM_OUTPUT))\n",
      "    zlist = np.zeros((N, NUM_HIDDEN))\n",
      "    for n in range(N):\n",
      "        ylist[n], zlist[n] = output(xlist[n], w1, w2)\n",
      "    \n",
      "    pylab.plot(xlist, tlist, 'bo')\n",
      "    \n",
      "    pylab.plot(xlist, ylist, 'r-')\n",
      "    \n",
      "    for i in range(NUM_HIDDEN):\n",
      "        pylab.plot(xlist, zlist[:,i], 'k--')\n",
      "    \n",
      "    pylab.ylim([-0.5,1.5])\n",
      "    pylab.show()"
     ],
     "language": "python",
     "metadata": {},
     "outputs": [
      {
       "output_type": "stream",
       "stream": "stdout",
       "text": [
        "square errror before training:12.254134\n",
        "0 8.52659436967\n",
        "100"
       ]
      },
      {
       "output_type": "stream",
       "stream": "stdout",
       "text": [
        " 0.0739482794262\n",
        "200"
       ]
      },
      {
       "output_type": "stream",
       "stream": "stdout",
       "text": [
        " 0.0349669984114\n",
        "300"
       ]
      },
      {
       "output_type": "stream",
       "stream": "stdout",
       "text": [
        " 0.0149089646424\n",
        "400"
       ]
      },
      {
       "output_type": "stream",
       "stream": "stdout",
       "text": [
        " 0.00606044329709\n",
        "500"
       ]
      },
      {
       "output_type": "stream",
       "stream": "stdout",
       "text": [
        " 0.00259627387715\n",
        "600"
       ]
      },
      {
       "output_type": "stream",
       "stream": "stdout",
       "text": [
        " 0.00130842474314\n",
        "700"
       ]
      },
      {
       "output_type": "stream",
       "stream": "stdout",
       "text": [
        " 0.000846680387226\n",
        "800"
       ]
      },
      {
       "output_type": "stream",
       "stream": "stdout",
       "text": [
        " 0.000689683858851\n",
        "900"
       ]
      },
      {
       "output_type": "stream",
       "stream": "stdout",
       "text": [
        " 0.000640453071501\n",
        "1000"
       ]
      },
      {
       "output_type": "stream",
       "stream": "stdout",
       "text": [
        " 0.000626545723085\n",
        "1100"
       ]
      },
      {
       "output_type": "stream",
       "stream": "stdout",
       "text": [
        " 0.000623230566498\n",
        "1200"
       ]
      },
      {
       "output_type": "stream",
       "stream": "stdout",
       "text": [
        " 0.000623354983183\n",
        "1300"
       ]
      },
      {
       "output_type": "stream",
       "stream": "stdout",
       "text": [
        " 0.000625461994306\n",
        "1400"
       ]
      },
      {
       "output_type": "stream",
       "stream": "stdout",
       "text": [
        " 0.000629356210245\n",
        "w1:{0}"
       ]
      },
      {
       "output_type": "stream",
       "stream": "stdout",
       "text": [
        " [[ 0.88943744  0.06707748]\n",
        " [ 1.48372399  1.57927778]\n",
        " [-0.64235788  0.02666436]\n",
        " [-1.56680157  1.54343418]\n",
        " [ 0.21758302  0.30120373]]\n",
        "w2:{0} [[-0.83637047  1.13132514  0.84608393 -1.17500719 -0.13891805]]\n"
       ]
      }
     ],
     "prompt_number": 3
    },
    {
     "cell_type": "code",
     "collapsed": false,
     "input": [],
     "language": "python",
     "metadata": {},
     "outputs": [],
     "prompt_number": 13
    },
    {
     "cell_type": "code",
     "collapsed": false,
     "input": [],
     "language": "python",
     "metadata": {},
     "outputs": []
    }
   ],
   "metadata": {}
  }
 ]
}