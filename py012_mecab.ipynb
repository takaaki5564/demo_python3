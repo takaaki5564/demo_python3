{
 "metadata": {
  "name": "",
  "signature": "sha256:ff91b35b08f85c36fa1e978d24b709f02e241c5c4f83a5483479f88578e0fe7c"
 },
 "nbformat": 3,
 "nbformat_minor": 0,
 "worksheets": [
  {
   "cells": [
    {
     "cell_type": "code",
     "collapsed": false,
     "input": [
      "import MeCab\n",
      "def mecab(sentence):\n",
      "    tagger=MeCab.Tagger('-Owakati')\n",
      "    parse=tagger.parse(sentence)\n",
      "    return parse.split()"
     ],
     "language": "python",
     "metadata": {},
     "outputs": [],
     "prompt_number": 1
    },
    {
     "cell_type": "code",
     "collapsed": false,
     "input": [
      "sentence='\u660e\u65e5\u306e\u5929\u6c17\u306f\u6674\u308c\u3067\u3059\u304b\u3002'\n",
      "re=mecab(sentence)\n",
      "print(re)"
     ],
     "language": "python",
     "metadata": {},
     "outputs": [
      {
       "output_type": "stream",
       "stream": "stdout",
       "text": [
        "['\u660e\u65e5', '\u306e', '\u5929\u6c17', '\u306f', '\u6674\u308c', '\u3067\u3059', '\u304b', '\u3002']\n"
       ]
      }
     ],
     "prompt_number": 2
    },
    {
     "cell_type": "code",
     "collapsed": false,
     "input": [
      "import MeCab\n",
      "tagger = MeCab.Tagger('mecabrc')\n",
      "text= '\u30e1\u30ab\u30d6\u3067\u904a\u3093\u3067\u307f\u3088\u3046'\n",
      "print (tagger.parse(text))"
     ],
     "language": "python",
     "metadata": {},
     "outputs": [
      {
       "output_type": "stream",
       "stream": "stdout",
       "text": [
        "\u30e1\u30ab\u30d6\t\u540d\u8a5e,\u4e00\u822c,*,*,*,*,*\n",
        "\u3067\t\u52a9\u8a5e,\u683c\u52a9\u8a5e,\u4e00\u822c,*,*,*,\u3067,\u30c7,\u30c7\n",
        "\u904a\u3093\t\u52d5\u8a5e,\u81ea\u7acb,*,*,\u4e94\u6bb5\u30fb\u30d0\u884c,\u9023\u7528\u30bf\u63a5\u7d9a,\u904a\u3076,\u30a2\u30bd\u30f3,\u30a2\u30bd\u30f3\n",
        "\u3067\t\u52a9\u8a5e,\u63a5\u7d9a\u52a9\u8a5e,*,*,*,*,\u3067,\u30c7,\u30c7\n",
        "\u307f\u3088\t\u52d5\u8a5e,\u975e\u81ea\u7acb,*,*,\u4e00\u6bb5,\u672a\u7136\u30a6\u63a5\u7d9a,\u307f\u308b,\u30df\u30e8,\u30df\u30e8\n",
        "\u3046\t\u52a9\u52d5\u8a5e,*,*,*,\u4e0d\u5909\u5316\u578b,\u57fa\u672c\u5f62,\u3046,\u30a6,\u30a6\n",
        "EOS\n",
        "\n"
       ]
      }
     ],
     "prompt_number": 3
    },
    {
     "cell_type": "code",
     "collapsed": false,
     "input": [
      "import MeCab\n",
      "tagger = MeCab.Tagger('-Ochasen')\n",
      "tagger.parse('')\n",
      "\n",
      "text = '\u6700\u521d\u306eparse\u304c\u306a\u3044\u3068\u7d50\u679c\u306e\u8868\u793a\u304c\u304a\u304b\u3057\u304f\u306a\u308b\u3088\uff01'\n",
      "# Because of this problem, \n",
      "# I have to use parse and analyse the result of parse()\n",
      "\n",
      "node = tagger.parseToNode(text)\n",
      "\n",
      "while node:\n",
      "    # surface=\u8868\u5c64\u7cfb\u3001feature=\u5f62\u614b\u7d20\u60c5\u5831\n",
      "    print(node.surface + '\\t' + node.feature)\n",
      "    node = node.next"
     ],
     "language": "python",
     "metadata": {},
     "outputs": [
      {
       "output_type": "stream",
       "stream": "stdout",
       "text": [
        "\tBOS/EOS,*,*,*,*,*,*,*,*\n",
        "\u6700\u521d\t\u540d\u8a5e,\u4e00\u822c,*,*,*,*,\u6700\u521d,\u30b5\u30a4\u30b7\u30e7,\u30b5\u30a4\u30b7\u30e7\n",
        "\u306e\t\u52a9\u8a5e,\u9023\u4f53\u5316,*,*,*,*,\u306e,\u30ce,\u30ce\n",
        "parse\t\u540d\u8a5e,\u4e00\u822c,*,*,*,*,*\n",
        "\u304c\t\u52a9\u8a5e,\u683c\u52a9\u8a5e,\u4e00\u822c,*,*,*,\u304c,\u30ac,\u30ac\n",
        "\u306a\u3044\t\u5f62\u5bb9\u8a5e,\u81ea\u7acb,*,*,\u5f62\u5bb9\u8a5e\u30fb\u30a2\u30a6\u30aa\u6bb5,\u57fa\u672c\u5f62,\u306a\u3044,\u30ca\u30a4,\u30ca\u30a4\n",
        "\u3068\t\u52a9\u8a5e,\u63a5\u7d9a\u52a9\u8a5e,*,*,*,*,\u3068,\u30c8,\u30c8\n",
        "\u7d50\u679c\t\u540d\u8a5e,\u526f\u8a5e\u53ef\u80fd,*,*,*,*,\u7d50\u679c,\u30b1\u30c3\u30ab,\u30b1\u30c3\u30ab\n",
        "\u306e\t\u52a9\u8a5e,\u9023\u4f53\u5316,*,*,*,*,\u306e,\u30ce,\u30ce\n",
        "\u8868\u793a\t\u540d\u8a5e,\u30b5\u5909\u63a5\u7d9a,*,*,*,*,\u8868\u793a,\u30d2\u30e7\u30a6\u30b8,\u30d2\u30e7\u30fc\u30b8\n",
        "\u304c\t\u52a9\u8a5e,\u683c\u52a9\u8a5e,\u4e00\u822c,*,*,*,\u304c,\u30ac,\u30ac\n",
        "\u304a\u304b\u3057\u304f\t\u5f62\u5bb9\u8a5e,\u81ea\u7acb,*,*,\u5f62\u5bb9\u8a5e\u30fb\u30a4\u6bb5,\u9023\u7528\u30c6\u63a5\u7d9a,\u304a\u304b\u3057\u3044,\u30aa\u30ab\u30b7\u30af,\u30aa\u30ab\u30b7\u30af\n",
        "\u306a\u308b\t\u52d5\u8a5e,\u81ea\u7acb,*,*,\u4e94\u6bb5\u30fb\u30e9\u884c,\u57fa\u672c\u5f62,\u306a\u308b,\u30ca\u30eb,\u30ca\u30eb\n",
        "\u3088\t\u52a9\u8a5e,\u7d42\u52a9\u8a5e,*,*,*,*,\u3088,\u30e8,\u30e8\n",
        "\uff01\t\u8a18\u53f7,\u4e00\u822c,*,*,*,*,\uff01,\uff01,\uff01\n",
        "\tBOS/EOS,*,*,*,*,*,*,*,*\n"
       ]
      }
     ],
     "prompt_number": 5
    },
    {
     "cell_type": "code",
     "collapsed": false,
     "input": [
      "import MeCab\n",
      "import sys, codecs\n",
      "sys.stdout = codecs.getwriter('utf-8')(sys.stdout)\n",
      "\n",
      "m = MeCab.Tagger('-Owakati')\n",
      "m.parse('')\n",
      "\n",
      "text = str('\u3059\u3082\u3082\u3082\u3082\u3082\u3082\u3082\u3082\u3082\u306e\u3046\u3061\u3002')\n",
      "\n",
      "node = m.parseToNode(text) #Node\u306a\u306e\u3067next,prev\u30e1\u30f3\u30d0\u3067\u6b21\u306b\u30a2\u30af\u30bb\u30b9\u53ef\u80fd\n",
      "\n",
      "while node:\n",
      "    surface = node.surface\n",
      "    feature = node.feature\n",
      "    print (surface, feature)\n",
      "    node = node.next"
     ],
     "language": "python",
     "metadata": {},
     "outputs": [
      {
       "output_type": "stream",
       "stream": "stdout",
       "text": [
        " BOS/EOS,*,*,*,*,*,*,*,*\n",
        "\u3059\u3082\u3082 \u540d\u8a5e,\u4e00\u822c,*,*,*,*,\u3059\u3082\u3082,\u30b9\u30e2\u30e2,\u30b9\u30e2\u30e2\n",
        "\u3082 \u52a9\u8a5e,\u4fc2\u52a9\u8a5e,*,*,*,*,\u3082,\u30e2,\u30e2\n",
        "\u3082\u3082 \u540d\u8a5e,\u4e00\u822c,*,*,*,*,\u3082\u3082,\u30e2\u30e2,\u30e2\u30e2\n",
        "\u3082 \u52a9\u8a5e,\u4fc2\u52a9\u8a5e,*,*,*,*,\u3082,\u30e2,\u30e2\n",
        "\u3082\u3082 \u540d\u8a5e,\u4e00\u822c,*,*,*,*,\u3082\u3082,\u30e2\u30e2,\u30e2\u30e2\n",
        "\u3082 \u52a9\u8a5e,\u4fc2\u52a9\u8a5e,*,*,*,*,\u3082,\u30e2,\u30e2\n",
        "\u306e \u52a9\u8a5e,\u9023\u4f53\u5316,*,*,*,*,\u306e,\u30ce,\u30ce\n",
        "\u3046\u3061 \u540d\u8a5e,\u975e\u81ea\u7acb,\u526f\u8a5e\u53ef\u80fd,*,*,*,\u3046\u3061,\u30a6\u30c1,\u30a6\u30c1\n",
        "\u3002 \u8a18\u53f7,\u53e5\u70b9,*,*,*,*,\u3002,\u3002,\u3002\n",
        " BOS/EOS,*,*,*,*,*,*,*,*\n"
       ]
      }
     ],
     "prompt_number": 1
    },
    {
     "cell_type": "code",
     "collapsed": false,
     "input": [
      "u1 = u\"this is unicode character\"\n",
      "print(type(u1))\n",
      "u2 = \"this is normal character\"\n",
      "print(type(u2))\n",
      "u3 = bytes(u2, 'euc-jp')\n",
      "print(type(u3))\n",
      "u4 = bytes(u2, 'utf-8')\n",
      "print(type(u4))"
     ],
     "language": "python",
     "metadata": {},
     "outputs": [
      {
       "output_type": "stream",
       "stream": "stdout",
       "text": [
        "<class 'str'>\n",
        "<class 'str'>\n",
        "<class 'bytes'>\n",
        "<class 'bytes'>\n"
       ]
      }
     ],
     "prompt_number": 1
    },
    {
     "cell_type": "code",
     "collapsed": false,
     "input": [],
     "language": "python",
     "metadata": {},
     "outputs": []
    }
   ],
   "metadata": {}
  }
 ]
}