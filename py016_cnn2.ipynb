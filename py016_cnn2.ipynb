{
 "metadata": {
  "name": "",
  "signature": "sha256:12ebe6f322e4724868008696492dddc8f1e0ec87acc483d6ba8daa5141cdab61"
 },
 "nbformat": 3,
 "nbformat_minor": 0,
 "worksheets": [
  {
   "cells": [
    {
     "cell_type": "code",
     "collapsed": false,
     "input": [
      "import numpy as np\n",
      "import pylab\n",
      "\n",
      "N = 50\n",
      "ETA = 0.1\n",
      "NUM_LOOP = 400\n",
      "\n",
      "NUM_INPUT = 2\n",
      "NUM_HIDDEN1 = 3\n",
      "NUM_HIDDEN2 = 3\n",
      "NUM_OUTPUT = 1"
     ],
     "language": "python",
     "metadata": {},
     "outputs": [],
     "prompt_number": 5
    },
    {
     "cell_type": "code",
     "collapsed": false,
     "input": [
      "def sum_square_error(xlist, tlist, w1, w2, w3):\n",
      "    error = 0.0\n",
      "    for n in range(N):\n",
      "        z1 = np.zeros(NUM_HIDDEN1)\n",
      "        z2 = np.zeros(NUM_HIDDEN2)\n",
      "        y = np.zeros(NUM_OUTPUT)\n",
      "        \n",
      "        x = np.insert(xlist[n], 0, 1)\n",
      "        \n",
      "        # forward prop\n",
      "        for j1 in range(NUM_HIDDEN1):\n",
      "            a1 = np.zeros(NUM_HIDDEN1)\n",
      "            for i in range(NUM_INPUT):\n",
      "                a1[j1] += w1[j1,i]*x[i]\n",
      "            z1[j1] = np.tanh(a1[j1])\n",
      "            \n",
      "        for j2 in range(NUM_HIDDEN2):\n",
      "            a2 = np.zeros(NUM_HIDDEN2)\n",
      "            for j1 in range(NUM_HIDDEN1):\n",
      "                a2[j2] += w2[j2,j1]*z1[j1]\n",
      "            z2[j2] = np.tanh(a2[j2])\n",
      "        \n",
      "        for k in range(NUM_OUTPUT):\n",
      "            for j2 in range(NUM_HIDDEN2):\n",
      "                y[k] += w3[k,j2] * z2[j2]\n",
      "        \n",
      "        for k in range(NUM_OUTPUT):\n",
      "            error += 0.5*(y[k]-tlist[n,k])*(y[k]-tlist[n,k])\n",
      "    return error"
     ],
     "language": "python",
     "metadata": {},
     "outputs": [],
     "prompt_number": 6
    },
    {
     "cell_type": "code",
     "collapsed": false,
     "input": [
      "def output(x, w1, w2, w3):\n",
      "    x = np.insert(x,0,1)\n",
      "    z1 = np.zeros(NUM_HIDDEN1)\n",
      "    z2 = np.zeros(NUM_HIDDEN2)\n",
      "    y = np.zeros(NUM_OUTPUT)\n",
      "    \n",
      "    for j1 in range(NUM_HIDDEN1):\n",
      "        a1 = np.zeros(NUM_HIDDEN1)\n",
      "        for i in range(NUM_INPUT):\n",
      "            a1[j1] += w1[j1,i]*x[i]\n",
      "        z1[j1] = np.tanh(a1[j1])\n",
      "    for j2 in range(NUM_HIDDEN2):\n",
      "        a2 = np.zeros(NUM_HIDDEN2)\n",
      "        for j1 in range(NUM_HIDDEN1):\n",
      "            a2[j2] =+ w2[j2,j1]*z1[j1]\n",
      "        z2[j2] = np.tanh(a2[j2])\n",
      "    for k in range(NUM_OUTPUT):\n",
      "        for j2 in range(NUM_HIDDEN2):\n",
      "            y[k] += w2[k,j2]*z2[j2]\n",
      "    \n",
      "    return y, z1, z2"
     ],
     "language": "python",
     "metadata": {},
     "outputs": [],
     "prompt_number": 7
    },
    {
     "cell_type": "code",
     "collapsed": false,
     "input": [
      "if __name__ == \"__main__\":\n",
      "    xlist = np.linspace(-1, 1, N).reshape(N,1)\n",
      "    tlist = xlist * np.sin(xlist)\n",
      "    #tlist = 1 - xlist * xlist\n",
      "    tlist = 1 - xlist * xlist + 0.0 * np.sin(xlist*15)\n",
      "    \n",
      "    w1 = np.random.random((NUM_HIDDEN1, NUM_INPUT))\n",
      "    w2 = np.random.random((NUM_HIDDEN2, NUM_HIDDEN1))\n",
      "    w3 = np.random.random((NUM_OUTPUT, NUM_HIDDEN2))\n",
      "    \n",
      "    print(\"Square Error before Train:{0}\", sum_square_error(xlist, tlist, w1, w2, w3))\n",
      "    \n",
      "    for loop in range(NUM_LOOP):\n",
      "        for n in range(len(xlist)):\n",
      "            z1 = np.zeros(NUM_HIDDEN1)\n",
      "            z2 = np.zeros(NUM_HIDDEN2)\n",
      "            y = np.zeros(NUM_OUTPUT)\n",
      "            \n",
      "            d1 = np.zeros(NUM_HIDDEN1)\n",
      "            d2 = np.zeros(NUM_HIDDEN2)\n",
      "            d3 = np.zeros(NUM_OUTPUT)\n",
      "            \n",
      "            x = np.array([xlist[n]])\n",
      "            x = np.insert(x, 0, 1)\n",
      "            \n",
      "            for j1 in range(NUM_HIDDEN1):\n",
      "                a1 = np.zeros(NUM_HIDDEN1)\n",
      "                for i in range(NUM_INPUT):\n",
      "                    a1[j1] += w1[j1,i]*x[i]\n",
      "                z1[j1] = np.tanh(a1[j1])\n",
      "            \n",
      "            for j2 in range(NUM_HIDDEN2):\n",
      "                a2 = np.zeros(NUM_HIDDEN2)\n",
      "                for j1 in range(NUM_HIDDEN1):\n",
      "                    a2[j2] += w2[j2,j1]*z1[j1]\n",
      "                z2[j2] = np.tanh(a2[j2])\n",
      "            \n",
      "            for k in range(NUM_OUTPUT):\n",
      "                for j2 in range(NUM_HIDDEN2):\n",
      "                    y[k] += w3[k,j2]*z2[j2] # output\n",
      "            \n",
      "            # difference\n",
      "            for k in range(NUM_OUTPUT):\n",
      "                d3[k] = y[k] - tlist[n,k]\n",
      "            \n",
      "            for j2 in range(NUM_HIDDEN2):\n",
      "                tmp = 0.0\n",
      "                for k in range(NUM_OUTPUT):\n",
      "                    tmp += w3[k,j2] * d3[k]\n",
      "                d2[j2] = (1 - z2[j2]*z2[j2])*tmp\n",
      "            \n",
      "            for j1 in range(NUM_HIDDEN1):\n",
      "                tmp = 0.0\n",
      "                for j2 in range(NUM_HIDDEN2):\n",
      "                    tmp += w2[j2,j1] * d2[j2]\n",
      "                d1[j1] = (1 - z1[j1]*z1[j1])*tmp\n",
      "            \n",
      "            # update w1, w2, w3\n",
      "            for j1 in range(NUM_HIDDEN1):\n",
      "                for i in range(NUM_INPUT):\n",
      "                    w1[j1,i] -= ETA * d1[j1] * x[i]\n",
      "            \n",
      "            for j2 in range(NUM_HIDDEN2):\n",
      "                for j1 in range(NUM_HIDDEN1):\n",
      "                    w2[j2,j1] -= ETA * d2[j2] * z1[j1]\n",
      "            \n",
      "            for k in range(NUM_OUTPUT):\n",
      "                for j2 in range(NUM_HIDDEN2):\n",
      "                    w3[k,j2] -= ETA * d3[k] * z2[j2]\n",
      "        if loop % 100 == 0:\n",
      "            print(loop, sum_square_error(xlist, tlist, w1, w2, w3))\n",
      "        \n",
      "    print(\"w1:\", w1)\n",
      "    print(\"w2:\", w2)\n",
      "    print(\"w3:\", w3)\n",
      "        \n",
      "    ylist = np.zeros((N, NUM_OUTPUT))\n",
      "    z1list = np.zeros((N, NUM_HIDDEN1))\n",
      "    z2list = np.zeros((N, NUM_HIDDEN2))\n",
      "        \n",
      "    for n in range(N):\n",
      "        ylist[n], z1list[n], z2list[n] = output(xlist[n], w1, w2, w3)\n",
      "        \n",
      "    pylab.plot(xlist, tlist, 'bo')\n",
      "    pylab.plot(xlist, ylist, 'r-')\n",
      "        \n",
      "    pylab.ylim([-0.5,1.5])\n",
      "    pylab.show()"
     ],
     "language": "python",
     "metadata": {},
     "outputs": [
      {
       "output_type": "stream",
       "stream": "stdout",
       "text": [
        "Square Error before Train:{0} 2.59645890212\n",
        "0 6.33441106776\n",
        "100"
       ]
      },
      {
       "output_type": "stream",
       "stream": "stdout",
       "text": [
        " 0.126731843251\n",
        "200"
       ]
      },
      {
       "output_type": "stream",
       "stream": "stdout",
       "text": [
        " 0.03195365014\n",
        "300"
       ]
      },
      {
       "output_type": "stream",
       "stream": "stdout",
       "text": [
        " 0.0173755881652\n",
        "w1:"
       ]
      },
      {
       "output_type": "stream",
       "stream": "stdout",
       "text": [
        " [[ 1.31032361  1.82755214]\n",
        " [ 0.72352579 -0.66592961]\n",
        " [ 0.7253432  -1.27148069]]\n",
        "w2: [[ 1.30764098 -0.30165583  0.43544107]\n",
        " [ 0.29183641  1.15500208  1.33929212]\n",
        " [ 1.02882884  0.93010551  0.50513176]]\n",
        "w3: [[ 0.84338863  0.84880965 -0.5756933 ]]\n"
       ]
      }
     ],
     "prompt_number": 8
    },
    {
     "cell_type": "code",
     "collapsed": false,
     "input": [],
     "language": "python",
     "metadata": {},
     "outputs": []
    }
   ],
   "metadata": {}
  }
 ]
}