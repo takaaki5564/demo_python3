{
 "metadata": {
  "name": "",
  "signature": "sha256:2ed426e66435f01b362e133d4597069e7e827eb04fc47e85c034f5ece49f9ab4"
 },
 "nbformat": 3,
 "nbformat_minor": 0,
 "worksheets": [
  {
   "cells": [
    {
     "cell_type": "code",
     "collapsed": false,
     "input": [
      "x=int(input(\"Figure>>>\"))\n",
      "if x>5:\n",
      "    print(\"Input figure exceed 5.\")"
     ],
     "language": "python",
     "metadata": {},
     "outputs": [
      {
       "name": "stdout",
       "output_type": "stream",
       "stream": "stdout",
       "text": [
        "Figure>>>4\n"
       ]
      }
     ],
     "prompt_number": 2
    },
    {
     "cell_type": "code",
     "collapsed": false,
     "input": [
      "print(\"abc\" > \"ABC\") # True\n",
      "x=10\n",
      "print(x in (1,10)) # True\n",
      "print(x in [1, \"a\"])\n"
     ],
     "language": "python",
     "metadata": {},
     "outputs": [
      {
       "output_type": "stream",
       "stream": "stdout",
       "text": [
        "True\n",
        "True\n",
        "False\n"
       ]
      }
     ],
     "prompt_number": 3
    },
    {
     "cell_type": "code",
     "collapsed": false,
     "input": [
      "def t(v):\n",
      "    if v:\n",
      "        print(v,\"=>true\")\n",
      "    else:\n",
      "        print(v,\"=>false\")\n",
      "\n",
      "t(1)\n",
      "t(0)\n",
      "t(1.1)\n",
      "t(0.0)\n",
      "        \n",
      "t(\"a\")\n",
      "t(\"\")\n",
      "        \n",
      "t((0,))\n",
      "t(())\n",
      "        \n",
      "t([\"\"])\n",
      "t([])\n",
      "        \n",
      "t(None)\n",
      "t(True)\n",
      "t(False)"
     ],
     "language": "python",
     "metadata": {},
     "outputs": [
      {
       "output_type": "stream",
       "stream": "stdout",
       "text": [
        "1 =>t\n",
        "0 =>false\n",
        "1.1 =>t\n",
        "0.0 =>false\n",
        "a =>t\n",
        " =>false\n",
        "(0,) =>t\n",
        "() =>false\n",
        "[''] =>t\n",
        "[] =>false\n",
        "None =>false\n",
        "True =>t\n",
        "False =>false\n"
       ]
      }
     ],
     "prompt_number": 5
    },
    {
     "cell_type": "code",
     "collapsed": false,
     "input": [
      "for i in (1,2,3,4):\n",
      "    if i==3:\n",
      "        break\n",
      "    print(i)\n",
      "print(\"finish:\", i)"
     ],
     "language": "python",
     "metadata": {},
     "outputs": [
      {
       "output_type": "stream",
       "stream": "stdout",
       "text": [
        "1\n",
        "2\n",
        "finish: 3\n"
       ]
      }
     ],
     "prompt_number": 6
    },
    {
     "cell_type": "code",
     "collapsed": false,
     "input": [
      "for i in (1,2,3,4):\n",
      "    if i==2:\n",
      "        continue\n",
      "    print(i)"
     ],
     "language": "python",
     "metadata": {},
     "outputs": [
      {
       "output_type": "stream",
       "stream": "stdout",
       "text": [
        "1\n",
        "3\n",
        "4\n"
       ]
      }
     ],
     "prompt_number": 7
    },
    {
     "cell_type": "code",
     "collapsed": false,
     "input": [
      "fp=open(\"data\",\"r\")\n",
      "\n",
      "lines=fp.readlines()\n",
      "print(lines)\n",
      "fp.close()"
     ],
     "language": "python",
     "metadata": {},
     "outputs": [
      {
       "output_type": "stream",
       "stream": "stdout",
       "text": [
        "['1hoge\\n', '2fuga\\n']\n"
       ]
      }
     ],
     "prompt_number": 4
    },
    {
     "cell_type": "code",
     "collapsed": false,
     "input": [],
     "language": "python",
     "metadata": {},
     "outputs": []
    }
   ],
   "metadata": {}
  }
 ]
}