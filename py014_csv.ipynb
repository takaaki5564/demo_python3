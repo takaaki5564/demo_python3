{
 "metadata": {
  "name": "",
  "signature": "sha256:75b62dc86201a71e1439137f9bff9150890aa0c2e6d3baf4af42a76de9946358"
 },
 "nbformat": 3,
 "nbformat_minor": 0,
 "worksheets": [
  {
   "cells": [
    {
     "cell_type": "code",
     "collapsed": false,
     "input": [
      "import csv\n",
      "\n",
      "csv_reader = csv.reader(open('some.csv', 'r'), delimiter=\",\",quotechar='\"')\n",
      "for row in csv_reader:\n",
      "    print (row)"
     ],
     "language": "python",
     "metadata": {},
     "outputs": [
      {
       "output_type": "stream",
       "stream": "stdout",
       "text": [
        "['1', '2', '3', '4', '5']\n",
        "['ishii', 'takaaki', '36', 'kanagawa', 'tokyo']\n",
        "['ishii', 'yasuko', '36', 'hiroshima', 'tokyo']\n"
       ]
      }
     ],
     "prompt_number": 3
    },
    {
     "cell_type": "code",
     "collapsed": false,
     "input": [
      "import csv\n",
      "\n",
      "f=open('some.csv', 'r')\n",
      "\n",
      "reader=csv.reader(f)\n",
      "header=next(reader) # skip header\n",
      "for row in reader:\n",
      "    print (row)\n",
      "\n",
      "f.close()"
     ],
     "language": "python",
     "metadata": {},
     "outputs": [
      {
       "output_type": "stream",
       "stream": "stdout",
       "text": [
        "['1', 'foo']\n",
        "['2', 'bar']\n",
        "['3', 'hoge']\n",
        "['4', 'hage']\n"
       ]
      }
     ],
     "prompt_number": 10
    },
    {
     "cell_type": "code",
     "collapsed": false,
     "input": [
      "import csv\n",
      "f = open('some.csv', 'w')\n",
      "\n",
      "list = ['a', 'b', 'c', 'd']\n",
      "array2d = [[1,'foo'], [2,'bar'], [3,'hoge'], [4,'hage']]\n",
      "\n",
      "writer = csv.writer(f, lineterminator='\\n')\n",
      "writer.writerow(list)\n",
      "writer.writerows(array2d)\n",
      "\n",
      "f.close()"
     ],
     "language": "python",
     "metadata": {},
     "outputs": [],
     "prompt_number": 9
    },
    {
     "cell_type": "code",
     "collapsed": false,
     "input": [],
     "language": "python",
     "metadata": {},
     "outputs": []
    }
   ],
   "metadata": {}
  }
 ]
}