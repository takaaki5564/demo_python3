{
 "metadata": {
  "name": "",
  "signature": "sha256:3a121a4a1e661d9a9c63c3b9c30fa15e4e6a707807406308580ff36f5e2960d3"
 },
 "nbformat": 3,
 "nbformat_minor": 0,
 "worksheets": [
  {
   "cells": [
    {
     "cell_type": "code",
     "collapsed": false,
     "input": [
      "import tweepy\n",
      "\n",
      "CONSUMER_KEY = 'fj290WqJ1qrTiWGeIcfXEPDnk'\n",
      "CONSUMER_SECRET = 'O59aUAI57FQqfFUZTyzhMeun268BtTYZFHFyuUpo9rSyK857kr'\n",
      "auth = tweepy.OAuthHandler(CONSUMER_KEY, CONSUMER_SECRET)\n",
      "\n",
      "ACCESS_TOKEN = '1661253480-88RCCAzYb9ZFzZwGEJc1nEvJaGeztSL0t1vPAff'\n",
      "ACCESS_SECRET = 'yibFYRm0FY1NAoV7LVBOVGPDnN33tpJmsCJEOLWoIorWR'\n",
      "auth.set_access_token(ACCESS_TOKEN, ACCESS_SECRET)\n",
      "\n",
      "api = tweepy.API(auth)\n",
      "\n",
      "api.update_status(\"Hello\")"
     ],
     "language": "python",
     "metadata": {},
     "outputs": [
      {
       "metadata": {},
       "output_type": "pyout",
       "prompt_number": 1,
       "text": [
        "Status(favorite_count=0, favorited=False, id_str='751676604103794688', in_reply_to_user_id_str=None, author=User(profile_link_color='0084B4', url=None, id_str='1661253480', verified=False, description='', profile_background_tile=False, screen_name='berobemin', followers_count=4, profile_background_image_url_https='https://abs.twimg.com/images/themes/theme1/bg.png', id=1661253480, profile_image_url_https='https://abs.twimg.com/sticky/default_profile_images/default_profile_5_normal.png', utc_offset=None, profile_background_image_url='http://abs.twimg.com/images/themes/theme1/bg.png', lang='ja', is_translation_enabled=False, following=False, time_zone=None, created_at=datetime.datetime(2013, 8, 11, 0, 47, 45), protected=False, profile_image_url='http://abs.twimg.com/sticky/default_profile_images/default_profile_5_normal.png', listed_count=0, geo_enabled=False, favourites_count=0, profile_sidebar_border_color='C0DEED', profile_sidebar_fill_color='DDEEF6', is_translator=False, has_extended_profile=False, profile_background_color='C0DEED', _json={'profile_link_color': '0084B4', 'profile_use_background_image': True, 'url': None, 'id_str': '1661253480', 'location': '', 'description': '', 'profile_background_tile': False, 'follow_request_sent': False, 'screen_name': 'berobemin', 'followers_count': 4, 'id': 1661253480, 'utc_offset': None, 'profile_background_image_url': 'http://abs.twimg.com/images/themes/theme1/bg.png', 'is_translation_enabled': False, 'following': False, 'is_translator': False, 'protected': False, 'profile_image_url': 'http://abs.twimg.com/sticky/default_profile_images/default_profile_5_normal.png', 'listed_count': 0, 'geo_enabled': False, 'favourites_count': 0, 'default_profile_image': True, 'profile_sidebar_border_color': 'C0DEED', 'profile_sidebar_fill_color': 'DDEEF6', 'contributors_enabled': False, 'has_extended_profile': False, 'profile_background_color': 'C0DEED', 'created_at': 'Sun Aug 11 00:47:45 +0000 2013', 'time_zone': None, 'profile_background_image_url_https': 'https://abs.twimg.com/images/themes/theme1/bg.png', 'name': 'ishi', 'verified': False, 'lang': 'ja', 'default_profile': True, 'notifications': False, 'statuses_count': 8, 'profile_image_url_https': 'https://abs.twimg.com/sticky/default_profile_images/default_profile_5_normal.png', 'friends_count': 9, 'profile_text_color': '333333', 'entities': {'description': {'urls': []}}}, profile_use_background_image=True, default_profile_image=True, profile_text_color='333333', name='ishi', location='', follow_request_sent=False, default_profile=True, notifications=False, statuses_count=8, contributors_enabled=False, friends_count=9, _api=<tweepy.api.API object at 0x7fa5e72932b0>, entities={'description': {'urls': []}}), contributors=None, in_reply_to_status_id_str=None, in_reply_to_status_id=None, created_at=datetime.datetime(2016, 7, 9, 7, 17, 22), in_reply_to_user_id=None, retweet_count=0, place=None, geo=None, user=User(profile_link_color='0084B4', url=None, id_str='1661253480', verified=False, description='', profile_background_tile=False, screen_name='berobemin', followers_count=4, profile_background_image_url_https='https://abs.twimg.com/images/themes/theme1/bg.png', id=1661253480, profile_image_url_https='https://abs.twimg.com/sticky/default_profile_images/default_profile_5_normal.png', utc_offset=None, profile_background_image_url='http://abs.twimg.com/images/themes/theme1/bg.png', lang='ja', is_translation_enabled=False, following=False, time_zone=None, created_at=datetime.datetime(2013, 8, 11, 0, 47, 45), protected=False, profile_image_url='http://abs.twimg.com/sticky/default_profile_images/default_profile_5_normal.png', listed_count=0, geo_enabled=False, favourites_count=0, profile_sidebar_border_color='C0DEED', profile_sidebar_fill_color='DDEEF6', is_translator=False, has_extended_profile=False, profile_background_color='C0DEED', _json={'profile_link_color': '0084B4', 'profile_use_background_image': True, 'url': None, 'id_str': '1661253480', 'location': '', 'description': '', 'profile_background_tile': False, 'follow_request_sent': False, 'screen_name': 'berobemin', 'followers_count': 4, 'id': 1661253480, 'utc_offset': None, 'profile_background_image_url': 'http://abs.twimg.com/images/themes/theme1/bg.png', 'is_translation_enabled': False, 'following': False, 'is_translator': False, 'protected': False, 'profile_image_url': 'http://abs.twimg.com/sticky/default_profile_images/default_profile_5_normal.png', 'listed_count': 0, 'geo_enabled': False, 'favourites_count': 0, 'default_profile_image': True, 'profile_sidebar_border_color': 'C0DEED', 'profile_sidebar_fill_color': 'DDEEF6', 'contributors_enabled': False, 'has_extended_profile': False, 'profile_background_color': 'C0DEED', 'created_at': 'Sun Aug 11 00:47:45 +0000 2013', 'time_zone': None, 'profile_background_image_url_https': 'https://abs.twimg.com/images/themes/theme1/bg.png', 'name': 'ishi', 'verified': False, 'lang': 'ja', 'default_profile': True, 'notifications': False, 'statuses_count': 8, 'profile_image_url_https': 'https://abs.twimg.com/sticky/default_profile_images/default_profile_5_normal.png', 'friends_count': 9, 'profile_text_color': '333333', 'entities': {'description': {'urls': []}}}, profile_use_background_image=True, default_profile_image=True, profile_text_color='333333', name='ishi', location='', follow_request_sent=False, default_profile=True, notifications=False, statuses_count=8, contributors_enabled=False, friends_count=9, _api=<tweepy.api.API object at 0x7fa5e72932b0>, entities={'description': {'urls': []}}), in_reply_to_screen_name=None, id=751676604103794688, is_quote_status=False, lang='en', truncated=False, source='TwitHimaApp', _json={'favorite_count': 0, 'favorited': False, 'id_str': '751676604103794688', 'in_reply_to_user_id_str': None, 'contributors': None, 'in_reply_to_status_id': None, 'in_reply_to_user_id': None, 'retweet_count': 0, 'place': None, 'geo': None, 'user': {'profile_link_color': '0084B4', 'profile_use_background_image': True, 'url': None, 'id_str': '1661253480', 'location': '', 'description': '', 'profile_background_tile': False, 'follow_request_sent': False, 'screen_name': 'berobemin', 'followers_count': 4, 'id': 1661253480, 'utc_offset': None, 'profile_background_image_url': 'http://abs.twimg.com/images/themes/theme1/bg.png', 'is_translation_enabled': False, 'following': False, 'is_translator': False, 'protected': False, 'profile_image_url': 'http://abs.twimg.com/sticky/default_profile_images/default_profile_5_normal.png', 'listed_count': 0, 'geo_enabled': False, 'favourites_count': 0, 'default_profile_image': True, 'profile_sidebar_border_color': 'C0DEED', 'profile_sidebar_fill_color': 'DDEEF6', 'contributors_enabled': False, 'has_extended_profile': False, 'profile_background_color': 'C0DEED', 'created_at': 'Sun Aug 11 00:47:45 +0000 2013', 'time_zone': None, 'profile_background_image_url_https': 'https://abs.twimg.com/images/themes/theme1/bg.png', 'name': 'ishi', 'verified': False, 'lang': 'ja', 'default_profile': True, 'notifications': False, 'statuses_count': 8, 'profile_image_url_https': 'https://abs.twimg.com/sticky/default_profile_images/default_profile_5_normal.png', 'friends_count': 9, 'profile_text_color': '333333', 'entities': {'description': {'urls': []}}}, 'in_reply_to_screen_name': None, 'id': 751676604103794688, 'is_quote_status': False, 'lang': 'en', 'truncated': False, 'source': '<a href=\"http://syncer.jp\" rel=\"nofollow\">TwitHimaApp</a>', 'created_at': 'Sat Jul 09 07:17:22 +0000 2016', 'retweeted': False, 'text': 'Hello', 'in_reply_to_status_id_str': None, 'entities': {'symbols': [], 'urls': [], 'user_mentions': [], 'hashtags': []}, 'coordinates': None}, retweeted=False, text='Hello', source_url='http://syncer.jp', coordinates=None, _api=<tweepy.api.API object at 0x7fa5e72932b0>, entities={'symbols': [], 'urls': [], 'user_mentions': [], 'hashtags': []})"
       ]
      }
     ],
     "prompt_number": 1
    },
    {
     "cell_type": "code",
     "collapsed": false,
     "input": [],
     "language": "python",
     "metadata": {},
     "outputs": []
    }
   ],
   "metadata": {}
  }
 ]
}